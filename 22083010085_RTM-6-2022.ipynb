{
 "cells": [
  {
   "cell_type": "markdown",
   "id": "fadd8d3b",
   "metadata": {},
   "source": [
    "### Interpolation Search"
   ]
  },
  {
   "cell_type": "code",
   "execution_count": 16,
   "id": "2429d98b",
   "metadata": {},
   "outputs": [
    {
     "name": "stdout",
     "output_type": "stream",
     "text": [
      "Data ditemukan di index ke 5\n"
     ]
    }
   ],
   "source": [
    "import math\n",
    "def interpolation(a,b):\n",
    "    a.sort()\n",
    "    arr_pos = []\n",
    "    min = 0\n",
    "    max = len(a)-1\n",
    "\n",
    "    while True:\n",
    "        if min < len(a) and min != max and max > 0:\n",
    "            pos = math.floor(((b-a[min])/(a[max]-a[min])*(max-min))+min)\n",
    "\n",
    "        if pos >= len(a):\n",
    "            print(\"Data tidak ditemukan 1\")\n",
    "            break\n",
    "        else:\n",
    "            arr_pos += [pos]\n",
    "        \n",
    "        if len(arr_pos) > 1:\n",
    "            if arr_pos[len(arr_pos)-1] == arr_pos[len(arr_pos)-2]:\n",
    "                print(\"Data tidak ditemukan 2\")\n",
    "                break\n",
    "\n",
    "        if a[arr_pos[len(arr_pos)-1]] < b:\n",
    "            min = pos+1\n",
    "        elif a[arr_pos[len(arr_pos)-1]] > b:\n",
    "            max = pos-1\n",
    "        else:\n",
    "            print(f\"Data ditemukan di index ke {pos}\")\n",
    "            break\n",
    "\n",
    "# memanggil fungsi\n",
    "arr = [10,14,19,26,27,31,33,35,42,44]\n",
    "interpolation(arr, 31)"
   ]
  }
 ],
 "metadata": {
  "kernelspec": {
   "display_name": "Python 3 (ipykernel)",
   "language": "python",
   "name": "python3"
  },
  "language_info": {
   "codemirror_mode": {
    "name": "ipython",
    "version": 3
   },
   "file_extension": ".py",
   "mimetype": "text/x-python",
   "name": "python",
   "nbconvert_exporter": "python",
   "pygments_lexer": "ipython3",
   "version": "3.9.12"
  }
 },
 "nbformat": 4,
 "nbformat_minor": 5
}
